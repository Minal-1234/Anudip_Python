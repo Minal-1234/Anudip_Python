{
 "cells": [
  {
   "cell_type": "markdown",
   "id": "5cf460f2",
   "metadata": {},
   "source": [
    "### 1. Program to check whether the given number is palindrome or not."
   ]
  },
  {
   "cell_type": "code",
   "execution_count": 6,
   "id": "67e01c96",
   "metadata": {},
   "outputs": [
    {
     "name": "stdout",
     "output_type": "stream",
     "text": [
      "Enter a number: 4554\n",
      "4554 is a palindrome.\n"
     ]
    }
   ],
   "source": [
    "#check if a number is a palindrome\n",
    "\n",
    "user_input = int(input(\"Enter a number: \"))\n",
    "user_input==number\n",
    "original_number = number\n",
    "reversed_number = 0\n",
    "\n",
    "while number > 0:\n",
    "    digit = number % 10\n",
    "    reversed_number = reversed_number * 10 + digit\n",
    "    number = number // 10\n",
    "\n",
    "# Compare the original number with the reversed number\n",
    "if original_number == reversed_number:\n",
    "    print(f\"{user_input} is a palindrome.\")\n",
    "else:\n",
    "    print(f\"{user_input} is not a palindrome.\")    \n"
   ]
  },
  {
   "cell_type": "markdown",
   "id": "980fcac0",
   "metadata": {},
   "source": [
    "### 2. Program to check whether the given number is Armstrong or not."
   ]
  },
  {
   "cell_type": "code",
   "execution_count": 7,
   "id": "59c1f09d",
   "metadata": {},
   "outputs": [
    {
     "name": "stdout",
     "output_type": "stream",
     "text": [
      "Enter a number: 5467\n",
      "5467 is not an Armstrong number.\n"
     ]
    }
   ],
   "source": [
    "# Input the number\n",
    "number = int(input(\"Enter a number: \"))\n",
    "\n",
    "# Convert the number to a string to easily iterate over each digit\n",
    "num_str = str(number)\n",
    "num_digits = len(num_str)\n",
    "sum_of_powers = 0\n",
    "\n",
    "# Calculate the sum of each digit raised to the power of the number of digits\n",
    "for digit in num_str:\n",
    "    sum_of_powers += int(digit) ** num_digits\n",
    "\n",
    "# Compare the sum of powers with the original number\n",
    "if sum_of_powers == number:\n",
    "    print(f\"{number} is an Armstrong number.\")\n",
    "else:\n",
    "    print(f\"{number} is not an Armstrong number.\")"
   ]
  },
  {
   "cell_type": "markdown",
   "id": "5e9605f6",
   "metadata": {},
   "source": [
    "### 3. Program to find the factorial of a number."
   ]
  },
  {
   "cell_type": "code",
   "execution_count": 8,
   "id": "0ecfca62",
   "metadata": {},
   "outputs": [
    {
     "name": "stdout",
     "output_type": "stream",
     "text": [
      "Enter a number: 5\n",
      "The factorial of 5 is 120.\n"
     ]
    }
   ],
   "source": [
    "# Input the number\n",
    "number = int(input(\"Enter a number: \"))\n",
    "\n",
    "# Initialize the factorial variable\n",
    "factorial = 1\n",
    "\n",
    "# Calculate the factorial using a for loop\n",
    "if number < 0:\n",
    "    print(\"Factorial is not defined for negative numbers.\")\n",
    "elif number == 0 or number == 1:\n",
    "    print(f\"The factorial of {number} is 1.\")\n",
    "else:\n",
    "    for i in range(1, number + 1):\n",
    "        factorial *= i\n",
    "\n",
    "    print(f\"The factorial of {number} is {factorial}.\")"
   ]
  },
  {
   "cell_type": "code",
   "execution_count": null,
   "id": "1a78b8fa",
   "metadata": {},
   "outputs": [],
   "source": []
  }
 ],
 "metadata": {
  "kernelspec": {
   "display_name": "Python 3 (ipykernel)",
   "language": "python",
   "name": "python3"
  },
  "language_info": {
   "codemirror_mode": {
    "name": "ipython",
    "version": 3
   },
   "file_extension": ".py",
   "mimetype": "text/x-python",
   "name": "python",
   "nbconvert_exporter": "python",
   "pygments_lexer": "ipython3",
   "version": "3.11.5"
  }
 },
 "nbformat": 4,
 "nbformat_minor": 5
}
