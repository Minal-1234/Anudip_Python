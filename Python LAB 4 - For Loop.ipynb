{
 "cells": [
  {
   "cell_type": "markdown",
   "id": "f586b7ad",
   "metadata": {},
   "source": [
    "### 1. program to print factorial of a number."
   ]
  },
  {
   "cell_type": "code",
   "execution_count": 1,
   "id": "dcd212f5",
   "metadata": {},
   "outputs": [
    {
     "name": "stdout",
     "output_type": "stream",
     "text": [
      "Enter a number: 5\n",
      "The factorial of 5 is 120.\n"
     ]
    }
   ],
   "source": [
    "# Input the number\n",
    "number = int(input(\"Enter a number: \"))\n",
    "\n",
    "# Initialize the factorial variable\n",
    "factorial = 1\n",
    "\n",
    "# Calculate the factorial using a for loop\n",
    "for i in range(1, number + 1):\n",
    "    factorial *= i\n",
    "\n",
    "# Print the factorial\n",
    "print(f\"The factorial of {number} is {factorial}.\")\n"
   ]
  },
  {
   "cell_type": "markdown",
   "id": "30719d58",
   "metadata": {},
   "source": [
    "### 2. Program to check whether the given number is prime or not."
   ]
  },
  {
   "cell_type": "code",
   "execution_count": 2,
   "id": "abd6547e",
   "metadata": {},
   "outputs": [
    {
     "name": "stdout",
     "output_type": "stream",
     "text": [
      "Enter a number: 3\n",
      "3 is a prime number.\n"
     ]
    }
   ],
   "source": [
    "# Input the number\n",
    "number = int(input(\"Enter a number: \"))\n",
    "\n",
    "# A prime number is greater than 1 and divisible only by 1 and itself\n",
    "if number <= 1:\n",
    "    print(f\"{number} is not a prime number.\")\n",
    "else:\n",
    "    is_prime = True  # Assume the number is prime\n",
    "\n",
    "    # Check divisibility from 2 to the square root of the number\n",
    "    for i in range(2, int(number ** 0.5) + 1):\n",
    "        if number % i == 0:  # If divisible by any number other than 1 and itself\n",
    "            is_prime = False\n",
    "            break\n",
    "\n",
    "    # Print the result based on the flag\n",
    "    if is_prime:\n",
    "        print(f\"{number} is a prime number.\")\n",
    "    else:\n",
    "        print(f\"{number} is not a prime number.\")\n"
   ]
  },
  {
   "cell_type": "markdown",
   "id": "bb1cd8e2",
   "metadata": {},
   "source": [
    "### 3. program to display the patterns."
   ]
  },
  {
   "cell_type": "code",
   "execution_count": 3,
   "id": "9b4181e9",
   "metadata": {},
   "outputs": [
    {
     "name": "stdout",
     "output_type": "stream",
     "text": [
      "1 \n",
      "1 2 \n",
      "1 2 3 \n",
      "1 2 3 4 \n",
      "1 2 3 4 5 \n"
     ]
    }
   ],
   "source": [
    "# Pattern 1\n",
    "n = 5\n",
    "for i in range(1, n + 1):\n",
    "    for j in range(1, i + 1):\n",
    "        print(j, end=\" \")\n",
    "    print()  # New line after each row"
   ]
  },
  {
   "cell_type": "code",
   "execution_count": 4,
   "id": "fc4d89f8",
   "metadata": {},
   "outputs": [
    {
     "name": "stdout",
     "output_type": "stream",
     "text": [
      "A \n",
      "B C \n",
      "D E F \n",
      "G H I J \n",
      "K L M N O \n"
     ]
    }
   ],
   "source": [
    "# Pattern 2\n",
    "n = 5\n",
    "current_char = 65  # ASCII value of 'A'\n",
    "\n",
    "for i in range(1, n + 1):\n",
    "    for j in range(i):\n",
    "        print(chr(current_char), end=\" \")\n",
    "        current_char += 1\n",
    "    print()  # New line after each row"
   ]
  },
  {
   "cell_type": "code",
   "execution_count": 6,
   "id": "cb6216d0",
   "metadata": {},
   "outputs": [
    {
     "name": "stdout",
     "output_type": "stream",
     "text": [
      "*\n",
      "***\n",
      "*****\n",
      "*******\n"
     ]
    }
   ],
   "source": [
    "# Pattern 3\n",
    "n = 4\n",
    "for i in range(n):\n",
    "    # Print leading spaces\n",
    "    for j in range(n - i - 1):\n",
    "        print(\"\", end=\"\")\n",
    "    # Print stars\n",
    "    for k in range(2 * i + 1):\n",
    "        print(\"*\", end=\"\")\n",
    "    print()  # New line after each row"
   ]
  },
  {
   "cell_type": "code",
   "execution_count": null,
   "id": "69890e43",
   "metadata": {},
   "outputs": [],
   "source": []
  }
 ],
 "metadata": {
  "kernelspec": {
   "display_name": "Python 3 (ipykernel)",
   "language": "python",
   "name": "python3"
  },
  "language_info": {
   "codemirror_mode": {
    "name": "ipython",
    "version": 3
   },
   "file_extension": ".py",
   "mimetype": "text/x-python",
   "name": "python",
   "nbconvert_exporter": "python",
   "pygments_lexer": "ipython3",
   "version": "3.11.5"
  }
 },
 "nbformat": 4,
 "nbformat_minor": 5
}
