{
 "cells": [
  {
   "cell_type": "markdown",
   "id": "7468b41c",
   "metadata": {},
   "source": [
    "### Write a function greet that takes a name as an argument and prints a greeting message like \"Hello, [name]!\"."
   ]
  },
  {
   "cell_type": "code",
   "execution_count": 1,
   "id": "1e2d7385",
   "metadata": {},
   "outputs": [],
   "source": [
    "def greet(name):\n",
    "    print(f\"Hello, {name}!\")"
   ]
  },
  {
   "cell_type": "markdown",
   "id": "138d7e74",
   "metadata": {},
   "source": [
    "###  Create a function add_numbers that takes two numbers as arguments and returns their sum."
   ]
  },
  {
   "cell_type": "code",
   "execution_count": 4,
   "id": "da3a0e78",
   "metadata": {},
   "outputs": [],
   "source": [
    "def add_numbers(a,b):\n",
    "    return a+b"
   ]
  },
  {
   "cell_type": "markdown",
   "id": "3e6a3d21",
   "metadata": {},
   "source": [
    "### Write a function multiply that takes two arguments and multiplies them. Make the second argument default to 1"
   ]
  },
  {
   "cell_type": "code",
   "execution_count": 3,
   "id": "bebbcf91",
   "metadata": {},
   "outputs": [],
   "source": [
    "def multiply(a, b=1):\n",
    "    return a * b"
   ]
  },
  {
   "cell_type": "markdown",
   "id": "972ed48b",
   "metadata": {},
   "source": [
    "### Define a function describe_person that takes name, age, and city as keyword arguments and prints a sentence describing the person."
   ]
  },
  {
   "cell_type": "code",
   "execution_count": 5,
   "id": "712d5919",
   "metadata": {},
   "outputs": [],
   "source": [
    "def describe_person(name, age, city):\n",
    "    print(f\"{name} is {age} years old and lives in {city}.\")"
   ]
  },
  {
   "cell_type": "code",
   "execution_count": null,
   "id": "894e8892",
   "metadata": {},
   "outputs": [],
   "source": []
  }
 ],
 "metadata": {
  "kernelspec": {
   "display_name": "Python 3 (ipykernel)",
   "language": "python",
   "name": "python3"
  },
  "language_info": {
   "codemirror_mode": {
    "name": "ipython",
    "version": 3
   },
   "file_extension": ".py",
   "mimetype": "text/x-python",
   "name": "python",
   "nbconvert_exporter": "python",
   "pygments_lexer": "ipython3",
   "version": "3.11.5"
  }
 },
 "nbformat": 4,
 "nbformat_minor": 5
}
