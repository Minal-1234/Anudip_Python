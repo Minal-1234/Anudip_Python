{
 "cells": [
  {
   "cell_type": "markdown",
   "id": "a5ee4202",
   "metadata": {},
   "source": [
    "###  1.     Write a Python program that takes a number as input and prints \"Even\" if the number is even and \"Odd\"    if it's odd."
   ]
  },
  {
   "cell_type": "code",
   "execution_count": 1,
   "id": "36915fbb",
   "metadata": {},
   "outputs": [
    {
     "name": "stdout",
     "output_type": "stream",
     "text": [
      "Enter a number:2\n",
      "Even\n"
     ]
    }
   ],
   "source": [
    "#Even or odd number identification\n",
    "\n",
    "#user input\n",
    "num = int(input('Enter a number:'))\n",
    "\n",
    "#Applying condition\n",
    "if num%2==0:\n",
    "    #printing result if condition is True\n",
    "    print('Even')\n",
    "else:\n",
    "    #printing result if condition is False\n",
    "    print('Odd')"
   ]
  },
  {
   "cell_type": "markdown",
   "id": "7e81d866",
   "metadata": {},
   "source": [
    "### 2. Create a Python program that checks whether a person is eligible to vote (18 years or older) based on their age."
   ]
  },
  {
   "cell_type": "code",
   "execution_count": 2,
   "id": "b2c0e992",
   "metadata": {},
   "outputs": [
    {
     "name": "stdout",
     "output_type": "stream",
     "text": [
      "Enter your age:21\n",
      "You are eligible to vote.\n"
     ]
    }
   ],
   "source": [
    "#user input\n",
    "age = int(input(\"Enter your age:\"))\n",
    "\n",
    "#applying condition\n",
    "if age>=18:\n",
    "    #printing result if condition is True\n",
    "    print('You are eligible to vote.')\n",
    "else:\n",
    "    #printing result if condition is False\n",
    "    print(\"You are not not eligible to vote.\")"
   ]
  },
  {
   "cell_type": "markdown",
   "id": "4f40b8b3",
   "metadata": {},
   "source": [
    "### 3. Write a Python program that determines if a given year is a leap year or not."
   ]
  },
  {
   "cell_type": "code",
   "execution_count": 3,
   "id": "5974adb4",
   "metadata": {},
   "outputs": [
    {
     "name": "stdout",
     "output_type": "stream",
     "text": [
      "Enter year:2004\n",
      "Year 2004 is a leap year.\n"
     ]
    }
   ],
   "source": [
    "#user input\n",
    "year = int(input(\"Enter year:\"))\n",
    "\n",
    "#Applying condition\n",
    "if year%400 == 0:\n",
    "    #printing result if this condition is True\n",
    "    print(\"Year\",year,\"is a leap year.\")\n",
    "    \n",
    "elif year%4==0 and year%100 != 0:\n",
    "    #printing result if this condition is True\n",
    "    print('Year',year,'is a leap year.')\n",
    "    \n",
    "else:\n",
    "    #printing result if all of the above conditions are false\n",
    "    print('Year',year,'is not a leap year.')"
   ]
  },
  {
   "cell_type": "markdown",
   "id": "52f005c7",
   "metadata": {},
   "source": [
    "### 4. Create a Python program that checks if a user-given number is positive, negative, or zero."
   ]
  },
  {
   "cell_type": "code",
   "execution_count": 4,
   "id": "fdc70862",
   "metadata": {},
   "outputs": [
    {
     "name": "stdout",
     "output_type": "stream",
     "text": [
      "Enter a number:0\n",
      "The number is 0.\n"
     ]
    }
   ],
   "source": [
    "#user input\n",
    "num = int(input(\"Enter a number:\"))\n",
    "\n",
    "#Applying condition\n",
    "if num>0:\n",
    "    #printing result if this condition is True\n",
    "    print(\"The number {} is positive.\", format(num))\n",
    "elif num<0:\n",
    "    #printing result if this condition is True\n",
    "    print(\"The number {} is negative.\", format(num))\n",
    "else:\n",
    "    #printing if all of the above conditions is false\n",
    "    print(\"The number is 0.\")"
   ]
  },
  {
   "cell_type": "markdown",
   "id": "9fe1d4cb",
   "metadata": {},
   "source": [
    "### 5. Write a Python program that determines the largest of three numbers entered by the user."
   ]
  },
  {
   "cell_type": "code",
   "execution_count": 6,
   "id": "99587803",
   "metadata": {},
   "outputs": [
    {
     "name": "stdout",
     "output_type": "stream",
     "text": [
      "Enter the first number:4\n",
      "Enter the second number:5\n",
      "Enter the third number:3\n",
      "5 is the largest number.\n"
     ]
    }
   ],
   "source": [
    "#Find largest of 3 numbers using elif ladder\n",
    "\n",
    "#user input\n",
    "a=int(input('Enter the first number:'))\n",
    "b=int(input('Enter the second number:'))\n",
    "c=int(input('Enter the third number:'))\n",
    "\n",
    "#Applying condition for each number\n",
    "if a>b:\n",
    "    if a>c:\n",
    "        #Printing the result if this condition is true \n",
    "        print(a,'is the largest number.')\n",
    "    else:\n",
    "        #printing the result if the condition in the nested if is False\n",
    "        print(c,'is the largest number.')\n",
    "        \n",
    "elif b>a:\n",
    "        if b>c:\n",
    "            #printing if this condition is True\n",
    "            print(b,'is the largest number.')\n",
    "        else:\n",
    "            #printing if this condition is False.\n",
    "            print(c,'is the largest number')\n",
    "else:\n",
    "    #printing if all of the above conditions are False.\n",
    "    print(a,'=',b,'=',c)"
   ]
  },
  {
   "cell_type": "code",
   "execution_count": null,
   "id": "8fa1bba5",
   "metadata": {},
   "outputs": [],
   "source": []
  }
 ],
 "metadata": {
  "kernelspec": {
   "display_name": "Python 3 (ipykernel)",
   "language": "python",
   "name": "python3"
  },
  "language_info": {
   "codemirror_mode": {
    "name": "ipython",
    "version": 3
   },
   "file_extension": ".py",
   "mimetype": "text/x-python",
   "name": "python",
   "nbconvert_exporter": "python",
   "pygments_lexer": "ipython3",
   "version": "3.11.5"
  }
 },
 "nbformat": 4,
 "nbformat_minor": 5
}
